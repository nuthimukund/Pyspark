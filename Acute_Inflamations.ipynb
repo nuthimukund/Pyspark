{
 "cells": [
  {
   "cell_type": "code",
   "execution_count": 33,
   "metadata": {
    "collapsed": true
   },
   "outputs": [],
   "source": [
    "from pyspark.mllib.regression import LabeledPoint\n",
    "from pyspark.mllib.tree import DecisionTree\n",
    "from numpy import array\n",
    "from pyspark.mllib.util import MLUtils\n",
    "from pyspark.mllib.evaluation import BinaryClassificationMetrics"
   ]
  },
  {
   "cell_type": "code",
   "execution_count": 2,
   "metadata": {
    "collapsed": true
   },
   "outputs": [],
   "source": [
    "rdd = sc.textFile(\"/HDFS.home/data.txt\").map(lambda x: x.split(\"\\t\"))"
   ]
  },
  {
   "cell_type": "code",
   "execution_count": 40,
   "metadata": {},
   "outputs": [
    {
     "data": {
      "text/plain": [
       "[[u'35,5', u'no', u'yes', u'no', u'no', u'no', u'no', u'no'],\n",
       " [u'35,9', u'no', u'no', u'yes', u'yes', u'yes', u'yes', u'no']]"
      ]
     },
     "execution_count": 40,
     "metadata": {},
     "output_type": "execute_result"
    }
   ],
   "source": [
    "rdd.take(2)"
   ]
  },
  {
   "cell_type": "code",
   "execution_count": 3,
   "metadata": {
    "collapsed": true
   },
   "outputs": [],
   "source": [
    "def binary(YN):\n",
    "    if(YN == \"yes\"):\n",
    "        return 1\n",
    "    else:\n",
    "        return 0"
   ]
  },
  {
   "cell_type": "code",
   "execution_count": 9,
   "metadata": {
    "collapsed": true
   },
   "outputs": [],
   "source": [
    "def createLb(fields):\n",
    "    f1 = int(fields[0][0])*10+int(fields[0][1])\n",
    "    f2 = int(fields[0][3])\n",
    "    f3 = binary(fields[1])\n",
    "    f4 = binary(fields[2])\n",
    "    f5 = binary(fields[3])\n",
    "    f6 = binary(fields[4])\n",
    "    f7 = binary(fields[5])\n",
    "    lab1 = binary(fields[6])\n",
    "    lab2 = binary(fields[7])\n",
    "    return LabeledPoint(lab2, array([f1,f2,f3,f4,f5,f6,f7]))"
   ]
  },
  {
   "cell_type": "markdown",
   "metadata": {},
   "source": [
    "#### Training and Testing splits"
   ]
  },
  {
   "cell_type": "code",
   "execution_count": 5,
   "metadata": {
    "collapsed": true
   },
   "outputs": [],
   "source": [
    "(trainingData, testData) = rdd.randomSplit([0.7, 0.3])"
   ]
  },
  {
   "cell_type": "markdown",
   "metadata": {},
   "source": [
    "#### Creating Labeled points for training set 1 (Inflammation of urinary bladder)"
   ]
  },
  {
   "cell_type": "code",
   "execution_count": 6,
   "metadata": {
    "collapsed": true
   },
   "outputs": [],
   "source": [
    "train_lb1 = trainingData.map(createLb)"
   ]
  },
  {
   "cell_type": "code",
   "execution_count": 7,
   "metadata": {},
   "outputs": [
    {
     "data": {
      "text/plain": [
       "[LabeledPoint(1.0, [35.0,9.0,0.0,0.0,1.0,1.0,1.0]),\n",
       " LabeledPoint(0.0, [35.0,9.0,0.0,1.0,0.0,0.0,0.0]),\n",
       " LabeledPoint(0.0, [36.0,0.0,0.0,1.0,0.0,0.0,0.0]),\n",
       " LabeledPoint(1.0, [36.0,2.0,0.0,0.0,1.0,1.0,1.0]),\n",
       " LabeledPoint(1.0, [36.0,7.0,0.0,0.0,1.0,1.0,1.0])]"
      ]
     },
     "execution_count": 7,
     "metadata": {},
     "output_type": "execute_result"
    }
   ],
   "source": [
    "train_lb1.take(5)"
   ]
  },
  {
   "cell_type": "markdown",
   "metadata": {},
   "source": [
    "#### Building model for predicting Inflammation of urinary bladder"
   ]
  },
  {
   "cell_type": "code",
   "execution_count": 8,
   "metadata": {
    "collapsed": true
   },
   "outputs": [],
   "source": [
    "model_1 = DecisionTree.trainClassifier(train_lb1, numClasses = 2,\n",
    "                                    categoricalFeaturesInfo={2:2,3:2,4:2,5:2,6:2},\n",
    "                                    impurity = 'gini', maxDepth=5, maxBins=32)"
   ]
  },
  {
   "cell_type": "markdown",
   "metadata": {},
   "source": [
    "#### Creating Labeled points for training set 2 (Nephritis of renal pelvis origin)"
   ]
  },
  {
   "cell_type": "code",
   "execution_count": 10,
   "metadata": {
    "collapsed": true
   },
   "outputs": [],
   "source": [
    "train_lb2 = trainingData.map(createLb)"
   ]
  },
  {
   "cell_type": "code",
   "execution_count": 11,
   "metadata": {},
   "outputs": [
    {
     "data": {
      "text/plain": [
       "[LabeledPoint(0.0, [35.0,9.0,0.0,0.0,1.0,1.0,1.0]),\n",
       " LabeledPoint(0.0, [35.0,9.0,0.0,1.0,0.0,0.0,0.0]),\n",
       " LabeledPoint(0.0, [36.0,0.0,0.0,1.0,0.0,0.0,0.0]),\n",
       " LabeledPoint(0.0, [36.0,2.0,0.0,0.0,1.0,1.0,1.0]),\n",
       " LabeledPoint(0.0, [36.0,7.0,0.0,0.0,1.0,1.0,1.0])]"
      ]
     },
     "execution_count": 11,
     "metadata": {},
     "output_type": "execute_result"
    }
   ],
   "source": [
    "train_lb2.take(5)"
   ]
  },
  {
   "cell_type": "markdown",
   "metadata": {},
   "source": [
    "#### Building model for predicting Nephritis of renal pelvis origin"
   ]
  },
  {
   "cell_type": "code",
   "execution_count": 12,
   "metadata": {
    "collapsed": true
   },
   "outputs": [],
   "source": [
    "model_2 = DecisionTree.trainClassifier(train_lb2, numClasses = 2,\n",
    "                                    categoricalFeaturesInfo={2:2,3:2,4:2,5:2,6:2},\n",
    "                                    impurity = 'gini', maxDepth=5, maxBins=32)"
   ]
  },
  {
   "cell_type": "markdown",
   "metadata": {},
   "source": [
    "#### Creating Test Dataset"
   ]
  },
  {
   "cell_type": "code",
   "execution_count": 13,
   "metadata": {
    "collapsed": true
   },
   "outputs": [],
   "source": [
    "def create_test(fields):\n",
    "    f1 = int(fields[0][0])*10+int(fields[0][1])\n",
    "    f2 = int(fields[0][3])\n",
    "    f3 = binary(fields[1])\n",
    "    f4 = binary(fields[2])\n",
    "    f5 = binary(fields[3])\n",
    "    f6 = binary(fields[4])\n",
    "    f7 = binary(fields[5])\n",
    "    lab1 = binary(fields[6])\n",
    "    lab2 = binary(fields[7])\n",
    "    return array([f1,f2,f3,f4,f5,f6,f7,lab1,lab2])"
   ]
  },
  {
   "cell_type": "code",
   "execution_count": 21,
   "metadata": {
    "collapsed": true
   },
   "outputs": [],
   "source": [
    "test = testData.map(create_test)\n",
    "features = test.map(lambda x: x[0:7])\n",
    "labels = test.map(lambda x: x[7:9])"
   ]
  },
  {
   "cell_type": "code",
   "execution_count": 19,
   "metadata": {},
   "outputs": [
    {
     "data": {
      "text/plain": [
       "[array([35,  5,  0,  1,  0,  0,  0])]"
      ]
     },
     "execution_count": 19,
     "metadata": {},
     "output_type": "execute_result"
    }
   ],
   "source": [
    "features.take(1)"
   ]
  },
  {
   "cell_type": "code",
   "execution_count": 22,
   "metadata": {},
   "outputs": [
    {
     "data": {
      "text/plain": [
       "[array([0, 0])]"
      ]
     },
     "execution_count": 22,
     "metadata": {},
     "output_type": "execute_result"
    }
   ],
   "source": [
    "labels.take(1)"
   ]
  },
  {
   "cell_type": "markdown",
   "metadata": {},
   "source": [
    "#### Testing predictions of Inflammation of urinary bladder"
   ]
  },
  {
   "cell_type": "code",
   "execution_count": 24,
   "metadata": {},
   "outputs": [],
   "source": [
    "pred_1 = model_1.predict(features)"
   ]
  },
  {
   "cell_type": "code",
   "execution_count": 26,
   "metadata": {},
   "outputs": [
    {
     "data": {
      "text/plain": [
       "16.0"
      ]
     },
     "execution_count": 26,
     "metadata": {},
     "output_type": "execute_result"
    }
   ],
   "source": [
    "pred_1.sum()"
   ]
  },
  {
   "cell_type": "code",
   "execution_count": 28,
   "metadata": {},
   "outputs": [
    {
     "data": {
      "text/plain": [
       "16"
      ]
     },
     "execution_count": 28,
     "metadata": {},
     "output_type": "execute_result"
    }
   ],
   "source": [
    "labels.map(lambda x: x[0]).sum()"
   ]
  },
  {
   "cell_type": "code",
   "execution_count": 38,
   "metadata": {
    "collapsed": true
   },
   "outputs": [],
   "source": [
    "pred_1.map(lambda x: int(x))"
   ]
  },
  {
   "cell_type": "markdown",
   "metadata": {},
   "source": [
    "#### Testing predictions of Nephritis of renal pelvis origin"
   ]
  },
  {
   "cell_type": "code",
   "execution_count": 29,
   "metadata": {
    "collapsed": true
   },
   "outputs": [],
   "source": [
    "pred_2 = model_2.predict(features)"
   ]
  },
  {
   "cell_type": "code",
   "execution_count": 30,
   "metadata": {},
   "outputs": [
    {
     "data": {
      "text/plain": [
       "17.0"
      ]
     },
     "execution_count": 30,
     "metadata": {},
     "output_type": "execute_result"
    }
   ],
   "source": [
    "pred_2.sum()"
   ]
  },
  {
   "cell_type": "code",
   "execution_count": 31,
   "metadata": {},
   "outputs": [
    {
     "data": {
      "text/plain": [
       "17"
      ]
     },
     "execution_count": 31,
     "metadata": {},
     "output_type": "execute_result"
    }
   ],
   "source": [
    "labels.map(lambda x: x[1]).sum()"
   ]
  }
 ],
 "metadata": {
  "kernelspec": {
   "display_name": "Python 2",
   "language": "python",
   "name": "python2"
  },
  "language_info": {
   "codemirror_mode": {
    "name": "ipython",
    "version": 2
   },
   "file_extension": ".py",
   "mimetype": "text/x-python",
   "name": "python",
   "nbconvert_exporter": "python",
   "pygments_lexer": "ipython2",
   "version": "2.7.13"
  }
 },
 "nbformat": 4,
 "nbformat_minor": 2
}
